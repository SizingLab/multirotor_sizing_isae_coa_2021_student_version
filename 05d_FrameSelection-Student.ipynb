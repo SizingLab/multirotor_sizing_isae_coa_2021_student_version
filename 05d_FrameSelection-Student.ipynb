{
 "cells": [
  {
   "cell_type": "markdown",
   "metadata": {
    "slideshow": {
     "slide_type": "slide"
    }
   },
   "source": [
    "<img src=\"./pictures/logo_sizinglab.png\" style=\"float:right; max-width: 60px; display: inline\" alt=\"SizingLab\" /></a>"
   ]
  },
  {
   "cell_type": "markdown",
   "metadata": {
    "slideshow": {
     "slide_type": "slide"
    }
   },
   "source": [
    "# Frame selection\n",
    "*Written by Marc Budinger (INSA Toulouse) and Scott Delbecq (ISAE-SUPAERO), Toulouse, France.*"
   ]
  },
  {
   "cell_type": "markdown",
   "metadata": {
    "slideshow": {
     "slide_type": "slide"
    }
   },
   "source": [
    "## Design graph \n",
    "\n",
    "The following diagram represents the design graph of the frame selection. \n",
    "\n",
    "\n",
    "![DesignGraph](pictures/FrameDesignGraph.png)\n",
    "\n",
    "> **Questions:**\n",
    "* Give the main sizing problems you are able to detect.\n",
    "* Propose one or multiple solutions (which can request equation manipulation, addition of design variables, addition of constraints) \n",
    "* Orientate the arrows\n",
    "* Give equations order, inputs/outputs at each step of this part of sizing procedure\n",
    "\n"
   ]
  },
  {
   "cell_type": "markdown",
   "metadata": {},
   "source": [
    "### Sizing code and optimization\n",
    "\n",
    "> Exercice: propose a sizing code for the selection of the frame.\n"
   ]
  },
  {
   "cell_type": "code",
   "execution_count": null,
   "metadata": {},
   "outputs": [],
   "source": [
    "# Specifications\n",
    "N_arm=4.0#[-] Number of arms\n",
    "N_pro_arm=1.0#[-] Number of propellers per arm (1 or 2)\n",
    "\n",
    "# Reference parameters for scaling laws\n",
    "sigma_max = 280e6/4. # [Pa] Composite max stress (2 reduction for dynamic, 2 reduction for stress concentration)\n",
    "rho_s = 1700. # [kg/m3] Volumic mass of aluminum\n",
    "\n",
    "# Assumption\n",
    "D_pro=0.3#[m] Propeller diameter\n",
    "F_pro_to=1.0#[N] Thrust for one propeller during take off\n"
   ]
  },
  {
   "cell_type": "code",
   "execution_count": null,
   "metadata": {},
   "outputs": [],
   "source": [
    "#Design variables\n",
    "\n",
    "# -----------------------\n",
    "# equations\n",
    "# -----------------------\n",
    "# Length calculation   \n",
    "\n",
    "# Tube diameter & thickness\n",
    "\n",
    "# Mass\n"
   ]
  },
  {
   "cell_type": "code",
   "execution_count": null,
   "metadata": {},
   "outputs": [],
   "source": []
  }
 ],
 "metadata": {
  "kernelspec": {
   "display_name": "Python 3",
   "language": "python",
   "name": "python3"
  },
  "language_info": {
   "codemirror_mode": {
    "name": "ipython",
    "version": 3
   },
   "file_extension": ".py",
   "mimetype": "text/x-python",
   "name": "python",
   "nbconvert_exporter": "python",
   "pygments_lexer": "ipython3",
   "version": "3.6.5"
  }
 },
 "nbformat": 4,
 "nbformat_minor": 4
}
