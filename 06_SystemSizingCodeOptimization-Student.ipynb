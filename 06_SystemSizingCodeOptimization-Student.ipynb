{
 "cells": [
  {
   "cell_type": "markdown",
   "metadata": {
    "slideshow": {
     "slide_type": "slide"
    }
   },
   "source": [
    "<img src=\"./pictures/logo_sizinglab.png\" style=\"float:right; max-width: 60px; display: inline\" alt=\"SizingLab\" /></a>"
   ]
  },
  {
   "cell_type": "markdown",
   "metadata": {
    "slideshow": {
     "slide_type": "slide"
    }
   },
   "source": [
    "# Sizing of a multi-rotor drone\n",
    "\n",
    "*Written by Marc Budinger, Aitor Ochotorena (INSA Toulouse) and Scott Delbecq (ISAE-SUPAERO), Toulouse, France.*"
   ]
  },
  {
   "cell_type": "markdown",
   "metadata": {},
   "source": [
    "The objective of this notebook is to select the best compromise of components (propeller, motor, ESC, battery) of a multi-rotor drone for given specifiations.\n",
    "\n",
    "**Scipy** and **math** packages will be used for this notebook in order to illustrate the optimization algorithms of python."
   ]
  },
  {
   "cell_type": "code",
   "execution_count": null,
   "metadata": {},
   "outputs": [],
   "source": [
    "import scipy\n",
    "import scipy.optimize\n",
    "from math import pi\n",
    "from math import sqrt\n",
    "from math import sin\n",
    "import math\n",
    "import numpy as np\n",
    "import timeit\n",
    "import pandas as pd\n",
    "from IPython.display import display, HTML\n",
    "\n",
    "import ipywidgets as widgets\n",
    "from ipywidgets import interactive\n",
    "from IPython.display import display\n",
    "\n",
    "pd.options.display.float_format = '{:,.2f}'.format"
   ]
  },
  {
   "cell_type": "markdown",
   "metadata": {
    "slideshow": {
     "slide_type": "slide"
    }
   },
   "source": [
    "## Sizing code"
   ]
  },
  {
   "cell_type": "markdown",
   "metadata": {
    "slideshow": {
     "slide_type": "slide"
    }
   },
   "source": [
    "The set of equations of a sizing code can generate typical issues such : \n",
    "- Underconstrained set of equations: the lacking equations can come from additional scenarios, estimation models or additional sizing variable.   \n",
    "- overconstrained equations often due to the selection of a component on multiple critera: the adding of over-sizing coefficients and constraints in the optimization problem can generally fix this issue   \n",
    "- algebraic loops often due to selection criteria requiring informations generally available after the selection \n",
    "\n",
    "Concerning overconstraints components, we have here:\n",
    "- Brushless motors with multiple torque and voltage constraints (hover and transient vertical displacement) \n",
    "\n",
    "Multiple algebraic loops appears in the sizing problem:\n",
    "- The thrust depends of the total mass which depend of components required for generating this thrust\n",
    "\n",
    "The final optimization problem depends thus of these parameters:\n",
    "- $\\beta_{pro}=pitch/diameter$ ratio to define the propeller\n",
    "- $k_{os}$ over sizing coefficient on the load mass to estimate the final total mass\n",
    "- $k_{mot}$ over sizing coeffcient on the motor torque to estimate the max torque with the hover flight conditions\n",
    "- $k_{speed,mot}$ over sizing coeffcient on the motor speed to take into account voltage limits during hover or take-off flight\n",
    "- $k_{ND}$ slow down propeller coef : ND = kNDmax / k_ND\n",
    "- $k_{D}$ aspect ratio e_arm/D_out_arm (thickness/diameter) for the beam of the frame\n",
    "- $k_{mb}$ ratio battery mass / payload mass\n",
    "- $k_{vb}$ over sizing coefficient for the battery voltage"
   ]
  },
  {
   "cell_type": "markdown",
   "metadata": {
    "slideshow": {
     "slide_type": "slide"
    }
   },
   "source": [
    "More details in the setting up of sizing code can be found in the  [following paper](https://www.researchgate.net/profile/Marc_Budinger/publication/277933677_Computer-aided_definition_of_sizing_procedures_and_optimization_problems_of_mechatronic_systems/links/55969de508ae793d137c7ea5/Computer-aided-definition-of-sizing-procedures-and-optimization-problems-of-mechatronic-systems.pdf):  \n",
    "\n",
    "> Reysset, A., Budinger, M., & Maré, J. C. (2015). Computer-aided definition of sizing procedures and optimization problems of mechatronic systems. Concurrent Engineering, 23(4), 320-332.\n",
    "\n",
    "The sizing code is defined here in a function which can give:\n",
    "- an evaluation of the objective: here the total mass\n",
    "- an evaluation of the constraints: \n",
    "\n",
    "Here is an non-exhaustive XDSM diagram of the multirotor sizing code:\n",
    "\n",
    "![XDSM](pictures/xdsm_multirotor_mdo.png)"
   ]
  },
  {
   "cell_type": "markdown",
   "metadata": {
    "slideshow": {
     "slide_type": "slide"
    }
   },
   "source": [
    "## Objectives and specifications\n",
    "\n",
    "Main specifications :\n",
    "- a load (video, control card) of mass $M_{load}$.  \n",
    "- an autonomy $t_{hf}$ for the hover flight.\n",
    "- an acceleration to take off $a_{to}$.\n"
   ]
  },
  {
   "cell_type": "code",
   "execution_count": null,
   "metadata": {
    "slideshow": {
     "slide_type": "slide"
    }
   },
   "outputs": [],
   "source": [
    "# Specifications\n",
    "\n",
    "# Load\n",
    "M_pay = 100. # [kg] load mass\n",
    "\n",
    "# Acceleration during take off\n",
    "a_to = 0.25 * 9.81 # [m/s²] acceleration\n",
    "\n",
    "# Autonomy\n",
    "t_hov_spec = 25. # [min] time of hover flight\n",
    "\n",
    "# MTOW\n",
    "MTOW = 360. # [kg] maximal mass\n",
    "\n",
    "# Objectif\n",
    "MAX_TIME = False # Objective\n",
    "\n"
   ]
  },
  {
   "cell_type": "markdown",
   "metadata": {},
   "source": [
    "## Architecture definition and design assumptions"
   ]
  },
  {
   "cell_type": "code",
   "execution_count": null,
   "metadata": {},
   "outputs": [],
   "source": [
    "# Architecture of the multi-rotor drone (4,6, 8 arms, ...)\n",
    "N_arm = 4 # [-] number of arm\n",
    "N_pro_arm = 2 # [-] number of propeller per arm (1 or 2)\n",
    "N_pro = N_pro_arm * N_arm # [-] Propellers number"
   ]
  },
  {
   "cell_type": "markdown",
   "metadata": {},
   "source": [
    "## Reference parameters"
   ]
  },
  {
   "cell_type": "markdown",
   "metadata": {},
   "source": [
    "- ### Battery & ESC"
   ]
  },
  {
   "cell_type": "code",
   "execution_count": null,
   "metadata": {},
   "outputs": [],
   "source": [
    "# Reference parameters for scaling laws\n",
    "# Ref : MK-quadro\n",
    "M_bat_ref = .329 # [kg] mass\n",
    "E_bat_ref = 220.*3600.*.329 # [J]\n",
    "\n",
    "# Ref : Turnigy K_Force 70HV \n",
    "P_esc_ref = 3108. # [W] Power\n",
    "M_esc_ref = .115 # [kg] Mass"
   ]
  },
  {
   "cell_type": "markdown",
   "metadata": {},
   "source": [
    "- ### Motor"
   ]
  },
  {
   "cell_type": "code",
   "execution_count": null,
   "metadata": {},
   "outputs": [],
   "source": [
    "# Motor reference\n",
    "# Ref : AXI 5325/16 GOLD LINE\n",
    "T_nom_mot_ref = 2.32  # [N.m] rated torque\n",
    "T_max_mot_ref = 85./70.*T_nom_mot_ref # [N.m] max torque\n",
    "R_mot_ref = 0.03  # [Ohm] resistance\n",
    "M_mot_ref = 0.575 # [kg] mass\n",
    "K_mot_ref = 0.03 # [N.m/A] torque coefficient\n",
    "T_mot_fr_ref = 0.03 # [N.m] friction torque (zero load, nominal speed)"
   ]
  },
  {
   "cell_type": "markdown",
   "metadata": {},
   "source": [
    "- ### Frame"
   ]
  },
  {
   "cell_type": "code",
   "execution_count": null,
   "metadata": {},
   "outputs": [],
   "source": [
    "# Reference parameters for scaling laws\n",
    "sigma_max = 280e6/4. # [Pa] Composite max stress (2 reduction for dynamic, 2 reduction for stress concentration)\n",
    "rho_s = 1700. # [kg/m3] Volumic mass of aluminum"
   ]
  },
  {
   "cell_type": "markdown",
   "metadata": {},
   "source": [
    "- ### Propeller"
   ]
  },
  {
   "cell_type": "code",
   "execution_count": null,
   "metadata": {},
   "outputs": [],
   "source": [
    "# Specifications\n",
    "rho_air=1.18# [kg/m^3] Air density\n",
    "ND_max=105000./60.*.0254 #[Hz.m] Max speed limit (N.D max) for APC MR propellers\n",
    "\n",
    "\n",
    "# Reference parameters for scaling laws\n",
    "D_pro_ref=11.*.0254# [m] Reference propeller diameter\n",
    "M_pro_ref=0.53*0.0283# [kg] Reference propeller mass"
   ]
  },
  {
   "cell_type": "code",
   "execution_count": null,
   "metadata": {
    "slideshow": {
     "slide_type": "slide"
    }
   },
   "outputs": [],
   "source": [
    "# -----------------------\n",
    "# sizing code\n",
    "# -----------------------\n",
    "# inputs: \n",
    "# - param: optimisation variables vector (reduction ratio, oversizing coefficient)\n",
    "# - arg: selection of output  \n",
    "# output: \n",
    "# - objective if arg='Obj', problem characteristics if arg='Prt', constraints other else\n",
    "def sizing_code(param, arg):\n",
    "# Design variables\n",
    "# ---\n",
    "    beta_pro = param[0] # pitch/diameter ratio of the propeller\n",
    "    k_os = param[1] # over sizing coefficient on the load mass \n",
    "    k_ND = param[2] # slow down propeller coef : ND = kNDmax / k_ND\n",
    "    k_mot = param[3] # over sizing coefficient on the motor torque\n",
    "    k_speed_mot = param[4] # over sizing coefficient on the motor speed\n",
    "    k_mb = param[5] # ratio battery / payload mass \n",
    "    k_vb = param[6] # over sizing coefficient for the battery voltage\n",
    "    k_D = param[7] # aspect ratio e_arm/D_out_arm (thickness/diameter) for the beam of the frame\n",
    "\n",
    "# Hover& Take-Off thrust \n",
    "# ---\n",
    "    M_total =  # [kg] Estimation of the total mass (or equivalent weight of dynamic scenario)\n",
    "    F_pro_hov =  # [N] Thrust per propeller for hover\n",
    "    F_pro_to =  # [N] Thrust per propeller for take-off\n",
    "\n",
    "\n",
    "#PROPELLER\n",
    "# --- \n",
    "\n",
    "    C_t =  # Thrust coef with T=C_T.rho.n^2.D^4 - 0.8 for de-rating of APC catalog\n",
    "    C_p =  # Power coef with P=C_p.rho.n^3.D^5\n",
    "\n",
    "    # Propeller selection with take-off scenario\n",
    "    D_pro =   # [m] Propeller diameter\n",
    "    n_pro_to =  # [Hz] Propeller speed \n",
    "    Omega_pro_to =  # [rad/s] Propeller speed\n",
    "\n",
    "    M_pro =  # [kg] Propeller mass\n",
    "\n",
    "    P_pro_to =  # [W] Power per propeller\n",
    "    T_pro_to =  # [N.m] Propeller torque\n",
    "\n",
    "    # Propeller torque & speed for hover\n",
    "    n_pro_hov =  # [Hz] hover speed\n",
    "    Omega_pro_hov =  # [rad/s] Propeller speed\n",
    "\n",
    "    P_pro_hov =  # [W] Power per propeller\n",
    "    T_pro_hov =  # [N.m] Propeller torque       \n",
    "    U_bat_est =  # [V] battery voltage estimation\n",
    "    \n",
    "\n",
    "# MOTOR\n",
    "# --- \n",
    "    T_nom_mot =   # [N.m] Motor nominal torque per propeller\n",
    "\n",
    "    M_mot =  # [kg] Motor mass\n",
    "\n",
    "    # Selection with take-off speed\n",
    "    K_mot =  # [N.m/A] or [V/(rad/s)] Kt motor\n",
    "\n",
    "    R_mot =   # [Ohm] motor resistance\n",
    "    T_mot_fr =  # [N.m] Friction torque\n",
    "    T_max_mot = \n",
    "\n",
    "    # Hover current and voltage\n",
    "    I_mot_hov =  # [I] Current of the motor per propeller\n",
    "    U_mot_hov =  # [V] Voltage of the motor per propeller\n",
    "    P_el_mot_hov =  # [W] Hover : electrical power\n",
    "\n",
    "    # Takeoff current and voltage\n",
    "    I_mot_to =  # [I] Current of the motor per propeller\n",
    "    U_mot_to =  # [V] Voltage of the motor per propeller\n",
    "    P_el_mot_to =  # [W] Takeoff : electrical power\n",
    "\n",
    "# BATTERY AND ESC\n",
    "# ---     \n",
    "    # Battery selection & scaling laws sized from hover\n",
    "    \n",
    "    N_s_bat =  # [-] Cell number, round (up value)\n",
    "    U_bat =  # [V] Battery voltage\n",
    "\n",
    "    M_bat =  # [kg] Battery mass\n",
    "\n",
    "    # Hover --> autonomy\n",
    "    E_bat =  # [J] Energy  of the battery (.8 coefficient because 80% use only of the total capacity)\n",
    "    C_bat =  # [A.s] Capacity  of the battery \n",
    "    I_bat =  # [A] Current of the battery\n",
    "    t_hov =  # [min] Hover time \n",
    "\n",
    "    # ESC\n",
    "    P_esc =  # [W] power electronic power (corner power or apparent power)\n",
    "    M_esc =  # [kg] Mass ESC\n",
    "    V_esc =  # [V] ESC voltage        \n",
    "\n",
    "# Frame sized from max thrust\n",
    "# ---\n",
    "    alpha_sep =  # [rad] interior angle separation between propellers\n",
    "    L_arm =  # [m] length of the arm\n",
    "\n",
    "    # Tube diameter & thickness\n",
    "    D_out_arm =  # [m] outer diameter of the arm (hollow cylinder)\n",
    "    e_arm =  # [m] thickness of the arm (hollow cylinder) \n",
    "    D_in_arm =  # [m] inner diameter of the arm (hollow cylinder) \n",
    "\n",
    "    # Mass\n",
    "    M_arm =  # [kg] mass of the arm (x1) (beams only)  composite\n",
    "    M_frame =  # [kg] mass of the frame (40% of total mass is the arms)\n",
    "\n",
    "# Objective and Constraints sum up\n",
    "# ---\n",
    "    M_total_real=\n",
    "\n",
    "    if MAX_TIME == True:\n",
    "            constraints = [\n",
    "                \n",
    "            ]\n",
    "    else:\n",
    "            constraints = [\n",
    "                \n",
    "            ]\n",
    "\n",
    "    # Run algorithm slsqp\n",
    "    if arg == 'Obj':\n",
    "        if MAX_TIME == True:\n",
    "            return 1./t_hov # for time maximisation\n",
    "        else:\n",
    "            return M_total_real # for mass optimisation\n",
    "\n",
    "     # Run algorithm differential evolution\n",
    "    elif arg == 'ObjP':\n",
    "        P = 0. # Penalisation nulle\n",
    "        for C in constraints: \n",
    "            if (C < 0.): \n",
    "                P = P-1e9*C\n",
    "        if MAX_TIME==True:\n",
    "            return 1./t_hov + P # for time maximisation\n",
    "        else:\n",
    "            return M_total_real + P # for mass optimisation       \n",
    "\n",
    "    elif arg=='Prt':\n",
    "\n",
    "        col_names = ['Type', 'Name', 'Value', 'Unit', 'Comment']\n",
    "\n",
    "        df = pd.DataFrame()\n",
    "        \n",
    "        df = df.append([{'Type': 'Optimization', 'Name': 'beta_pro', 'Value': beta_pro,  'Unit': '[-]', 'Comment': 'ratio pitch-to-diameter '}])[col_names]\n",
    "        df = df.append([{'Type': 'Optimization', 'Name': 'k_os',  'Value': k_os,  'Unit': '[-]', 'Comment': 'over sizing coefficient on the load mass '}])[col_names]\n",
    "        df = df.append([{'Type': 'Optimization', 'Name': 'k_ND',  'Value': k_ND,  'Unit': '[-]', 'Comment': 'over sizing coefficient on the propeller speed'}])[col_names]\n",
    "        df = df.append([{'Type': 'Optimization', 'Name': 'k_mot', 'Value': k_mot,  'Unit': '[-]', 'Comment': 'over sizing coefficient on the motor torque  '}])[col_names]\n",
    "        df = df.append([{'Type': 'Optimization', 'Name': 'k_speed_mot',  'Value': k_speed_mot,  'Unit': '[-]', 'Comment': 'over sizing coefficient on the propeller speed'}])[col_names]\n",
    "        df = df.append([{'Type': 'Optimization', 'Name': 'k_mb',  'Value': k_mb,  'Unit': '[-]', 'Comment': 'over sizing coefficient on the battery load mass'}])[col_names]\n",
    "        df = df.append([{'Type': 'Optimization', 'Name': 'k_vb',  'Value': k_vb,  'Unit': '[-]', 'Comment': 'over sizing coefficient for the battery voltage'}])[col_names]\n",
    "        df = df.append([{'Type': 'Optimization', 'Name': 'k_D',  'Value': k_D,  'Unit': '[-]', 'Comment': 'aspect ratio e/c (thickness/side) for the beam of the frame'}])[col_names]\n",
    "        df = df.append([{'Type': 'Constraints', 'Name': 'Const 0',  'Value': constraints[0],  'Unit': '[-]', 'Comment': 'M_total-M_total_real'}])[col_names]\n",
    "        df = df.append([{'Type': 'Constraints', 'Name': 'Const 1',  'Value': constraints[1],  'Unit': '[-]', 'Comment': 'U_bat-U_mot_to'}])[col_names]\n",
    "        df = df.append([{'Type': 'Constraints', 'Name': 'Const 2',  'Value': constraints[2],  'Unit': '[-]', 'Comment': 'T_max_mot-T_pro_to'}])[col_names]\n",
    "        df = df.append([{'Type': 'Constraints', 'Name': 'Const 3',  'Value': constraints[3],  'Unit': '[-]', 'Comment': 'U_bat-V_esc'}])[col_names]\n",
    "        df = df.append([{'Type': 'Constraints', 'Name': 'Const 4',  'Value': constraints[4],  'Unit': '[-]', 'Comment': 'V_esc-U_mot_to'}])[col_names]\n",
    "        if MAX_TIME==False:\n",
    "            df = df.append([{'Type': 'Constraints', 'Name': 'Const 5',  'Value': constraints[4],  'Unit': '[-]', 'Comment': 't_hov-t_hov_spec'}])[col_names]\n",
    "        else:\n",
    "            df = df.append([{'Type': 'Constraints', 'Name': 'Const 5',  'Value': constraints[4],  'Unit': '[-]', 'Comment': 'MTOW-M_total_real'}])[col_names]\n",
    "        df = df.append([{'Type': 'Objective', 'Name': 'Objective',  'Value': M_total_real,  'Unit': '[kg]', 'Comment': 'Total mass'}])[col_names]\n",
    "        \n",
    "        df = df.append([{'Type': 'Propeller', 'Name': 'F_pro_to', 'Value': F_pro_to, 'Unit': '[N]', 'Comment': 'Thrust for 1 propeller during Take Off'}])[col_names]\n",
    "        df = df.append([{'Type': 'Propeller', 'Name': 'F_pro_hov', 'Value': F_pro_hov, 'Unit': '[N]', 'Comment': 'Thrust for 1 propeller during Hover'}])[col_names]\n",
    "        df = df.append([{'Type': 'Propeller', 'Name': 'rho_air', 'Value': rho_air, 'Unit': '[kg/m^3]', 'Comment': 'Air density'}])[col_names]\n",
    "        df = df.append([{'Type': 'Propeller', 'Name': 'ND_max', 'Value': ND_max, 'Unit': '[Hz.m]', 'Comment': 'Max speed limit (N.D max)'}])[col_names]\n",
    "        df = df.append([{'Type': 'Propeller', 'Name': 'Dpro_ref', 'Value': D_pro_ref, 'Unit': '[m]', 'Comment': 'Reference propeller diameter'}])[col_names]\n",
    "        df = df.append([{'Type': 'Propeller', 'Name': 'M_pro_ref', 'Value': M_pro_ref, 'Unit': '[kg]', 'Comment': 'Reference propeller mass'}])[col_names]\n",
    "        df = df.append([{'Type': 'Propeller', 'Name': 'C_t_sta', 'Value': C_t, 'Unit': '[-]', 'Comment': 'Static thrust coefficient of the propeller'}])[col_names]\n",
    "        df = df.append([{'Type': 'Propeller', 'Name': 'C_p_sta', 'Value': C_p, 'Unit': '[-]', 'Comment': 'Static power coefficient of the propeller'}])[col_names]\n",
    "        df = df.append([{'Type': 'Propeller', 'Name': 'D_pro', 'Value': D_pro, 'Unit': '[m]', 'Comment': 'Diameter of the propeller'}])[col_names]\n",
    "        df = df.append([{'Type': 'Propeller', 'Name': 'n_pro_to', 'Value': n_pro_to, 'Unit': '[Hz]', 'Comment': 'Rev speed of the propeller during takeoff'}])[col_names]\n",
    "        df = df.append([{'Type': 'Propeller', 'Name': 'n_pro_hov', 'Value': n_pro_hov, 'Unit': '[Hz]', 'Comment': 'Rev speed of the propeller during hover'}])[col_names]\n",
    "        df = df.append([{'Type': 'Propeller', 'Name': 'P_pro_to', 'Value': P_pro_to, 'Unit': '[W]', 'Comment': 'Power on the mechanical shaft of the propeller during takeoff'}])[col_names]\n",
    "        df = df.append([{'Type': 'Propeller', 'Name': 'P_pro_hov', 'Value': P_pro_hov, 'Unit': '[W]', 'Comment': 'Power on the mechanical shaft of the propeller during hover'}])[col_names]\n",
    "        df = df.append([{'Type': 'Propeller', 'Name': 'M_pro', 'Value': M_pro, 'Unit': '[kg]', 'Comment': 'Mass of the propeller'}])[col_names]\n",
    "        df = df.append([{'Type': 'Propeller', 'Name': 'Omega_pro_to', 'Value': Omega_pro_to, 'Unit': '[rad/s]', 'Comment': 'Rev speed of the propeller during takeoff'}])[col_names]\n",
    "        df = df.append([{'Type': 'Propeller', 'Name': 'Omega_pro_hov', 'Value': Omega_pro_hov, 'Unit': '[rad/s]', 'Comment': 'Rev speed of the propeller during hover'}])[col_names]\n",
    "        df = df.append([{'Type': 'Propeller', 'Name': 'T_pro_hov', 'Value': T_pro_hov, 'Unit': '[N.m]', 'Comment': 'Torque on the mechanical shaft of the propeller during hover'}])[col_names]\n",
    "        df = df.append([{'Type': 'Propeller', 'Name': 'T_pro_to', 'Value': T_pro_to, 'Unit': '[N.m]', 'Comment': 'Torque on the mechanical shaft of the propeller during takeoff'}])[col_names]\n",
    "        df = df.append([{'Type': 'Motor', 'Name': 'T_max_mot_ref', 'Value': T_max_mot_ref, 'Unit': '[N.m]', 'Comment': 'Max torque'}])[col_names]\n",
    "        df = df.append([{'Type': 'Motor', 'Name': 'R_mot_ref', 'Value': R_mot_ref, 'Unit': '[Ohm]', 'Comment': 'Resistance'}])[col_names]\n",
    "        df = df.append([{'Type': 'Motor', 'Name': 'M_mot_ref', 'Value': M_mot_ref, 'Unit': '[kg]', 'Comment': 'Reference motor mass'}])[col_names]\n",
    "        df = df.append([{'Type': 'Motor', 'Name': 'K_mot_ref', 'Value': K_mot_ref, 'Unit': '[N.m/A]', 'Comment': 'Torque coefficient'}])[col_names]\n",
    "        df = df.append([{'Type': 'Motor', 'Name': 'T_mot_fr_ref', 'Value': T_mot_fr_ref, 'Unit': '[N.m]', 'Comment': 'Friction torque (zero load, nominal speed)'}])[col_names]\n",
    "        df = df.append([{'Type': 'Motor', 'Name': 'T_nom_mot', 'Value': T_nom_mot, 'Unit': '[N.m]', 'Comment': 'Continuous of the selected motor torque'}])[col_names]\n",
    "        df = df.append([{'Type': 'Motor', 'Name': 'T_max_mot', 'Value': T_max_mot, 'Unit': '[N.m]', 'Comment': 'Transient torque possible for climbing'}])[col_names]\n",
    "        df = df.append([{'Type': 'Motor', 'Name': 'R_mot', 'Value': R_mot, 'Unit': '[Ohm]', 'Comment': 'Resistance'}])[col_names]\n",
    "        df = df.append([{'Type': 'Motor', 'Name': 'M_mot', 'Value': M_mot, 'Unit': '[kg]', 'Comment': 'Motor mass'}])[col_names]\n",
    "        df = df.append([{'Type': 'Motor', 'Name': 'K_mot', 'Value': K_mot, 'Unit': '[N.m/A', 'Comment': 'Torque constant of the selected motor'}])[col_names]\n",
    "        df = df.append([{'Type': 'Motor', 'Name': 'T_mot_fr', 'Value': T_mot_fr, 'Unit': '[N.m]', 'Comment': 'Friction torque of the selected motor'}])[col_names]\n",
    "        df = df.append([{'Type': 'Motor', 'Name': 'I_mot_hov', 'Value': I_mot_hov, 'Unit': '[A]', 'Comment': 'Motor current for hover'}])[col_names]\n",
    "        df = df.append([{'Type': 'Motor', 'Name': 'I_mot_to', 'Value': I_mot_to, 'Unit': '[A]', 'Comment': 'Motor current for takeoff'}])[col_names]\n",
    "        df = df.append([{'Type': 'Motor', 'Name': 'U_mot_to', 'Value': U_mot_to, 'Unit': '[V]', 'Comment': 'Motor voltage for takeoff'}])[col_names]\n",
    "        df = df.append([{'Type': 'Motor', 'Name': 'U_mot', 'Value': U_mot_hov, 'Unit': '[V]', 'Comment': 'Nominal voltage '}])[col_names]\n",
    "        df = df.append([{'Type': 'Motor', 'Name': 'P_el_mot_to', 'Value': P_el_mot_to, 'Unit': '[W]', 'Comment': 'Motor electrical power for takeoff'}])[col_names]\n",
    "        df = df.append([{'Type': 'Motor', 'Name': 'P_el_mot_hov', 'Value': P_el_mot_hov, 'Unit': '[W]', 'Comment': 'Motor electrical power for hover'}])[col_names]\n",
    "        df = df.append([{'Type': 'Battery & ESC', 'Name': 'M_bat_ref', 'Value': M_bat_ref, 'Unit': '[kg]', 'Comment': 'Mass of the reference battery '}])[col_names]\n",
    "        df = df.append([{'Type': 'Battery & ESC', 'Name': 'M_esc_ref', 'Value': M_esc_ref, 'Unit': '[kg]', 'Comment': 'Reference ESC mass '}])[col_names]\n",
    "        df = df.append([{'Type': 'Battery & ESC', 'Name': 'P_esc_ref', 'Value': P_esc_ref, 'Unit': '[W]', 'Comment': 'Reference ESC power '}])[col_names]\n",
    "        df = df.append([{'Type': 'Battery & ESC', 'Name': 'N_s_bat', 'Value': np.ceil(N_s_bat), 'Unit': '[-]', 'Comment': 'Number of battery cells '}])[col_names]\n",
    "        df = df.append([{'Type': 'Battery & ESC', 'Name': 'U_bat', 'Value': U_bat, 'Unit': '[V]', 'Comment': 'Battery voltage '}])[col_names]\n",
    "        df = df.append([{'Type': 'Battery & ESC', 'Name': 'M_bat', 'Value': M_bat, 'Unit': '[kg]', 'Comment': 'Battery mass '}])[col_names]\n",
    "        df = df.append([{'Type': 'Battery & ESC', 'Name': 'C_bat', 'Value': C_bat, 'Unit': '[A.s]', 'Comment': 'Battery capacity '}])[col_names]\n",
    "        df = df.append([{'Type': 'Battery & ESC', 'Name': 'I_bat', 'Value': I_bat, 'Unit': '[A]', 'Comment': 'Battery current '}])[col_names]\n",
    "        df = df.append([{'Type': 'Battery & ESC', 'Name': 't_hf', 'Value': t_hov, 'Unit': '[min]', 'Comment': 'Hovering time '}])[col_names]\n",
    "        df = df.append([{'Type': 'Battery & ESC', 'Name': 'P_esc', 'Value': P_esc, 'Unit': '[W]', 'Comment': 'Power electronic power (corner power or apparent power) '}])[col_names]\n",
    "        df = df.append([{'Type': 'Battery & ESC', 'Name': 'M_esc', 'Value': M_esc, 'Unit': '[kg]', 'Comment': 'ESC mass '}])[col_names]\n",
    "        df = df.append([{'Type': 'Battery & ESC', 'Name': 'V_esc', 'Value': V_esc, 'Unit': '[V]', 'Comment': 'ESC voltage '}])[col_names]\n",
    "        df = df.append([{'Type': 'Frame', 'Name': 'N_arm', 'Value': N_arm, 'Unit': '[-]', 'Comment': 'Number of arms '}])[col_names]\n",
    "        df = df.append([{'Type': 'Frame', 'Name': 'N_pro_arm', 'Value': N_pro_arm, 'Unit': '[-]', 'Comment': 'Number of propellers per arm '}])[col_names]\n",
    "        df = df.append([{'Type': 'Frame', 'Name': 'sigma_max', 'Value': sigma_max, 'Unit': '[Pa]', 'Comment': 'Max admisible stress'}])[col_names]\n",
    "        df = df.append([{'Type': 'Frame', 'Name': 'L_arm', 'Value': L_arm, 'Unit': '[m]', 'Comment': 'Length of the arm'}])[col_names]\n",
    "        df = df.append([{'Type': 'Frame', 'Name': 'D_out', 'Value': D_out_arm, 'Unit': '[m]', 'Comment': 'Outer diameter of the arm (tube)'}])[col_names]\n",
    "        df = df.append([{'Type': 'Frame', 'Name': 'Marm', 'Value': M_arm, 'Unit': '[kg]', 'Comment': '1 Arm mass'}])[col_names]\n",
    "        df = df.append([{'Type': 'Frame', 'Name': 'M_frame', 'Value': M_frame, 'Unit': '[kg]', 'Comment': 'Frame mass'}])[col_names]\n",
    "        df = df.append([{'Type': 'Specifications', 'Name': 'M_load', 'Value': M_pay, 'Unit': '[kg]', 'Comment': 'Payload mass'}])[col_names]\n",
    "        df = df.append([{'Type': 'Specifications', 'Name': 't_hf', 'Value': t_hov, 'Unit': '[min]', 'Comment': 'Hovering time '}])[col_names]\n",
    "        df = df.append([{'Type': 'Specifications', 'Name': 'N_arm', 'Value': N_arm, 'Unit': '[-]', 'Comment': 'Number of arms '}])[col_names]\n",
    "        df = df.append([{'Type': 'Specifications', 'Name': 'N_pro_arm', 'Value': N_pro_arm, 'Unit': '[-]', 'Comment': 'Number of propellers per arm '}])[col_names]\n",
    "        df = df.append([{'Type': 'Specifications', 'Name': 'MTOW', 'Value': MTOW, 'Unit': '[kg]', 'Comment': 'Max takeoff Weight'}])[col_names]\n",
    "\n",
    "        items = sorted(df['Type'].unique().tolist())\n",
    "        def f(Type):\n",
    "            return df[df['Type']==Type] \n",
    "        widgets.interact(f, Type=items)\n",
    "        return f\n",
    "        \n",
    "    else:\n",
    "        return constraints\n"
   ]
  },
  {
   "cell_type": "markdown",
   "metadata": {
    "slideshow": {
     "slide_type": "slide"
    }
   },
   "source": [
    "## Optimization problem\n"
   ]
  },
  {
   "cell_type": "markdown",
   "metadata": {},
   "source": [
    "We will now use the [optimization algorithms](https://docs.scipy.org/doc/scipy/reference/optimize.html) of the Scipy package to solve and optimize the configuration. We use here the SLSQP algorithm without explicit expression of the gradient (Jacobian). A course on Multidisplinary Gradient optimization algorithms and gradient optimization algorithm is given [here](http://mdolab.engin.umich.edu/sites/default/files/Martins-MDO-course-notes.pdf):\n",
    "> Joaquim R. R. A. Martins (2012). A Short Course on Multidisciplinary Design Optimization. University of Michigan\n"
   ]
  },
  {
   "cell_type": "markdown",
   "metadata": {},
   "source": [
    "The first step is to give an initial value of optimisation variables:"
   ]
  },
  {
   "cell_type": "code",
   "execution_count": null,
   "metadata": {},
   "outputs": [],
   "source": [
    "# Optimisation variables\n",
    "beta_pro = .33 # pitch/diameter ratio of the propeller\n",
    "k_os = 3.2 # over sizing coefficient on the load mass \n",
    "k_ND = 1.2 # slow down propeller coef : ND = kNDmax / k_ND\n",
    "k_mot = 1. # over sizing coefficient on the motor torque\n",
    "k_speed_mot = 1.2 # adaption winding coef on the motor speed\n",
    "k_mb = 1. # ratio battery/load mass\n",
    "k_vb = 1. # oversizing coefficient for voltage evaluation\n",
    "k_D = .01 # aspect ratio e/c (thickness/side) for the beam of the frame\n",
    "\n",
    "\n",
    "# Vector of parameters\n",
    "parameters = scipy.array((beta_pro, k_os, k_ND,k_mot, k_speed_mot, k_mb, k_vb,k_D,))"
   ]
  },
  {
   "cell_type": "markdown",
   "metadata": {
    "slideshow": {
     "slide_type": "slide"
    }
   },
   "source": [
    "We can print of the characterisitcs of the problem before optimization with the initial vector of optimization variables:"
   ]
  },
  {
   "cell_type": "code",
   "execution_count": null,
   "metadata": {},
   "outputs": [],
   "source": [
    "# Initial characteristics before optimization \n",
    "print(\"-----------------------------------------------\")\n",
    "print(\"Initial characteristics before optimization :\")\n",
    "sizing_code(parameters,'Prt')\n",
    "print(\"-----------------------------------------------\")"
   ]
  },
  {
   "cell_type": "markdown",
   "metadata": {
    "slideshow": {
     "slide_type": "slide"
    }
   },
   "source": [
    "Then we can solve the problem and print of the optimized solution:"
   ]
  },
  {
   "cell_type": "code",
   "execution_count": null,
   "metadata": {},
   "outputs": [],
   "source": [
    "# Optimization with SLSQP algorithm\n",
    "contrainte = lambda x: sizing_code(x, 'Const')\n",
    "objectif = lambda x: sizing_code(x, 'Obj')\n",
    "objectifP = lambda x: sizing_code(x, 'ObjP')\n",
    "\n",
    "SLSQP = False # Optimization algorithm choice\n",
    "\n",
    "# Optimization bounds\n",
    "# beta,  k_os, k_ND, k_mot, k_speed_mot, k_mb, k_vb, k_D\n",
    "bounds = [(0.3,0.6), (1,400), (1,100), (1,100), (1,400), (0.1,100), (1,5), (0.1,0.99)]\n",
    "\n",
    "if SLSQP == True:\n",
    "    # SLSQP omptimisation\n",
    "    result = scipy.optimize.fmin_slsqp(func=objectif, x0=parameters, \n",
    "                                   bounds=bounds,\n",
    "                                   f_ieqcons=contrainte, iter=1500, acc=1e-12)\n",
    "else:\n",
    "    # Differential evolution omptimisation\n",
    "    result = scipy.optimize.differential_evolution(func=objectifP,\n",
    "                                   bounds=bounds,\n",
    "                                   tol=1e-12)\n",
    "\n",
    "# Final characteristics after optimization \n",
    "print(\"-----------------------------------------------\")\n",
    "print(\"Final characteristics after optimization :\")\n",
    "\n",
    "if SLSQP == True:\n",
    "    sizing_code(result,'Obj')\n",
    "    sizing_code(result, 'Prt')\n",
    "else:\n",
    "    sizing_code(result.x,'Obj')\n",
    "    sizing_code(result.x, 'Prt')\n",
    "print(\"-----------------------------------------------\")"
   ]
  },
  {
   "cell_type": "code",
   "execution_count": null,
   "metadata": {},
   "outputs": [],
   "source": []
  }
 ],
 "metadata": {
  "kernelspec": {
   "display_name": "Python 3",
   "language": "python",
   "name": "python3"
  },
  "language_info": {
   "codemirror_mode": {
    "name": "ipython",
    "version": 3
   },
   "file_extension": ".py",
   "mimetype": "text/x-python",
   "name": "python",
   "nbconvert_exporter": "python",
   "pygments_lexer": "ipython3",
   "version": "3.7.4"
  }
 },
 "nbformat": 4,
 "nbformat_minor": 4
}
