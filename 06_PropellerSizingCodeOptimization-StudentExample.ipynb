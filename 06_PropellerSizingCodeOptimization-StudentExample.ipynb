{
 "cells": [
  {
   "cell_type": "markdown",
   "metadata": {
    "slideshow": {
     "slide_type": "slide"
    }
   },
   "source": [
    "<img src=\"./pictures/logo_sizinglab.png\" style=\"float:right; max-width: 60px; display: inline\" alt=\"SizingLab\" /></a>"
   ]
  },
  {
   "cell_type": "markdown",
   "metadata": {
    "slideshow": {
     "slide_type": "slide"
    }
   },
   "source": [
    "# Sizing of a multi-rotor drone\n",
    "\n",
    "*Written by Marc Budinger, Aitor Ochotorena (INSA Toulouse) and Scott Delbecq (ISAE-SUPAERO), Toulouse, France.*"
   ]
  },
  {
   "cell_type": "markdown",
   "metadata": {},
   "source": [
    "The objective of this notebook is to select the best compromise of components (propeller, motor, ESC, battery) of a multi-rotor drone for given specifiations.\n",
    "\n",
    "**Scipy** and **math** packages will be used for this notebook for the optimization algorithms of python.\n",
    "\n",
    "**widgets** provides an interactive layout to display the results."
   ]
  },
  {
   "cell_type": "code",
   "execution_count": 3,
   "metadata": {},
   "outputs": [],
   "source": [
    "import scipy\n",
    "import scipy.optimize\n",
    "\n",
    "from math import pi\n",
    "from math import sqrt\n",
    "from math import sin\n",
    "\n",
    "import numpy as np\n",
    "import pandas as pd\n",
    "\n",
    "import ipywidgets as widgets\n",
    "from ipywidgets import interactive\n",
    "from IPython.display import display\n",
    "\n",
    "pd.options.display.float_format = '{:,.2f}'.format"
   ]
  },
  {
   "cell_type": "markdown",
   "metadata": {},
   "source": [
    "## Contents\n",
    "1. [Sizing the propeller for vertical climb speed ](#section_1)\n",
    "2. [Architecture defintion and design assumptions](#section_2)\n",
    "3. [Sizing code](#section_3)\n",
    "4. [Optimization problem](#section_4)"
   ]
  },
  {
   "cell_type": "markdown",
   "metadata": {},
   "source": [
    "<a id='section_1'></a>"
   ]
  },
  {
   "cell_type": "markdown",
   "metadata": {},
   "source": [
    "## Sizing propeller to vertical climb speed scenario"
   ]
  },
  {
   "cell_type": "markdown",
   "metadata": {},
   "source": [
    "This exercise targets to minimize the propeller torque for vertical climb speed scenario. This Notebook shows the role of the design variables as well as the constraints in an optimization problem. \n",
    "\n",
    "\n",
    "Let us say that $Q_{pro,cl}$ is the climb torque to minimize. \n",
    "\n",
    "For the vertical climb, advance ratio ($J=\\frac{V_{cl}}{n_{cl}   D_{pro}}$) is a key parameter to estimate the vertical speed. \n",
    "\n",
    "Given that $D_{pro}$ and $V_{cl}$ are known from the specifications of the problem, we face a problem with one equation and two undetermined parameters.\n",
    "\n",
    "**STRATEGY:** One of these parameters is going to be defined within a design range (e.g. J) and thus, the rest of calculations are done. This particular case is called **underconstraint singularity**.\n",
    "\n",
    "Finally, estimated parameter is compared to the real value through the constraint. \n",
    "\n",
    "The sizing code is defined here in a function which can give:\n",
    "- an evaluation of the objective: here minimize the torque in climb scenario\n",
    "- an evaluation of the constraints: \n",
    "\n",
    "\n",
    "\n",
    "<math>\\begin{align}\n",
    "&\\underset{\\mathbf{x}}{\\operatorname{minimize}}& & Q_{pro,cl}(\\mathbf{x}) \\\\\n",
    "&\\operatorname{subject\\ to}\n",
    "& & 5\\% \\leq  V_{cl}-J n_{cl}   D_{pro} \\leq 0 \\\\\n",
    "\\end{align}</math>\n",
    "\n",
    "where it is expected that the product $J n_{cl}   D_{pro}$ calculated does not differ more than a 5\\%.\n",
    "\n",
    "Here is an non-exhaustive XDSM diagram of the whole multirotor sizing code:\n",
    "\n",
    "![XDSM](pictures/xdsm_multirotor_mdo.png)\n",
    "\n",
    "More details in the setting up of sizing code can be found in the  [following paper](https://www.researchgate.net/profile/Marc_Budinger/publication/277933677_Computer-aided_definition_of_sizing_procedures_and_optimization_problems_of_mechatronic_systems/links/55969de508ae793d137c7ea5/Computer-aided-definition-of-sizing-procedures-and-optimization-problems-of-mechatronic-systems.pdf):  \n",
    "\n",
    "> Reysset, A., Budinger, M., & Maré, J. C. (2015). Computer-aided definition of sizing procedures and optimization problems of mechatronic systems. Concurrent Engineering, 23(4), 320-332.\n"
   ]
  },
  {
   "cell_type": "markdown",
   "metadata": {},
   "source": [
    "<a id='section_2'></a>"
   ]
  },
  {
   "cell_type": "markdown",
   "metadata": {},
   "source": [
    "## Architecture definition and design assumptions"
   ]
  },
  {
   "cell_type": "code",
   "execution_count": 4,
   "metadata": {},
   "outputs": [],
   "source": [
    "M_total = 1.35 # [kg] mass of the drone \n",
    "\n",
    "rho_air=1.18# [kg/m^3] Air density\n",
    "\n",
    "pitch=4.5*0.0254#[m] propeller pitch\n",
    "\n",
    "a_to = 0.25 * 9.81 # [m/s²] acceleration during take off\n",
    "\n",
    "N_arm = 4 # [-] number of arm\n",
    "\n",
    "N_pro_arm = 1 # [-] number of propeller per arm (1 or 2)\n",
    "\n",
    "N_pro = N_pro_arm * N_arm # [-] Propellers number\n",
    "\n",
    "ND_max=105000./60.*.0254 #[Hz.m] Max speed limit (N.D max) for APC MR propellers\n",
    "\n",
    "# Reference parameters for scaling laws\n",
    "D_pro_ref=11.*.0254# [m] Reference propeller diameter\n",
    "M_pro_ref=0.53*0.0283# [kg] Reference propeller mass"
   ]
  },
  {
   "cell_type": "markdown",
   "metadata": {},
   "source": [
    "<a id='section_3'></a>"
   ]
  },
  {
   "cell_type": "markdown",
   "metadata": {},
   "source": [
    "## Sizing code"
   ]
  },
  {
   "cell_type": "code",
   "execution_count": 9,
   "metadata": {
    "slideshow": {
     "slide_type": "slide"
    }
   },
   "outputs": [],
   "source": [
    "# -----------------------\n",
    "# sizing code\n",
    "# -----------------------\n",
    "# inputs: \n",
    "# - param: optimisation variables vector (reduction ratio, oversizing coefficient)\n",
    "# - arg: selection of output  \n",
    "# output: \n",
    "# - objective if arg='Obj', problem characteristics if arg='Prt', constraints other else\n",
    "\n",
    "def sizing_code(param, arg):\n",
    "\n",
    "# Design variables\n",
    "# ---\n",
    "    beta_pro = param[0] # pitch/diameter ratio of the propeller\n",
    "    k_ND = param[1] # slow down propeller coef : ND = kNDmax / k_ND\n",
    "\n",
    "    F_pro_hov = M_total * (9.81) / N_pro # [N] Thrust per propeller for hover\n",
    "    F_pro_to = M_total * (9.81 + a_to) / N_pro # [N] Thrust per propeller for take-off\n",
    "    \n",
    "    C_t = 4.27e-02 + 1.44e-01 * beta_pro  # Thrust coef with T=C_T.rho.n^2.D^4 - 0.8 for de-rating of APC catalog\n",
    "    C_p = -1.48e-03 + 9.72e-02 * beta_pro  # Power coef with P=C_p.rho.n^3.D^5\n",
    "\n",
    "    # Propeller selection with take-off scenario\n",
    "    D_pro = (F_pro_to / (C_t*rho_air*(ND_max/k_ND)**2.))**0.5 # [m] Propeller diameter\n",
    "    n_pro_to = ND_max / k_ND / D_pro # [Hz] Propeller speed \n",
    "    Omega_pro_to = n_pro_to * 2*pi # [rad/s] Propeller speed\n",
    "\n",
    "    M_pro = M_pro_ref * (D_pro/D_pro_ref)**2. # [kg] Propeller mass\n",
    "\n",
    "    P_pro_to = C_p * rho_air * n_pro_to**3. * D_pro**5. # [W] Power per propeller\n",
    "    T_pro_to = P_pro_to / Omega_pro_to # [N.m] Propeller torque\n",
    "\n",
    "    # Propeller torque & speed for hover\n",
    "    n_pro_hov = sqrt(F_pro_hov/(C_t * rho_air *D_pro**4.)) # [Hz] hover speed\n",
    "    Omega_pro_hov = n_pro_hov * 2.*pi # [rad/s] Propeller speed\n",
    "\n",
    "    P_pro_hov = C_p * rho_air * n_pro_hov**3. * D_pro**5. # [W] Power per propeller\n",
    "    T_pro_hov = P_pro_hov / Omega_pro_hov # [N.m] Propeller torque       \n",
    "\n",
    "# Objective and Constraints sum up\n",
    "# ---\n",
    "    obj =  10 *  M_pro # minimize propeller mass\n",
    "\n",
    "    constraints = []\n",
    "\n",
    "    # Run algorithm slsqp\n",
    "    if arg == 'Obj':\n",
    "        return obj # for torque optimisation\n",
    "\n",
    "     # Run algorithm differential evolution\n",
    "    elif arg == 'ObjP':\n",
    "        P = 0. # Penalisation nulle\n",
    "        for C in constraints: \n",
    "            if (C < 0.): \n",
    "                P = P-1e9*C\n",
    "        return obj + P # for torque optimisation       \n",
    "\n",
    "    elif arg=='Prt':\n",
    "\n",
    "        col_names = ['Type', 'Name', 'Value', 'Unit', 'Comment']\n",
    "\n",
    "        df = pd.DataFrame()\n",
    "        df = df.append([{'Type': 'Optimization', 'Name': 'beta_pro', 'Value': beta_pro, 'Unit': '[-]', 'Comment': 'pitch/diameter ratio'}])[col_names]\n",
    "        df = df.append([{'Type': 'Optimization', 'Name': 'k_ND', 'Value': k_ND, 'Unit': '[-]', 'Comment': 'slow down propeller coef'}])[col_names]\n",
    "        df = df.append([{'Type': 'Optimization', 'Name': 'Objective',  'Value': obj, 'Unit': '[kg]', 'Comment': 'Propeller mass'}])[col_names]\n",
    "        df = df.append([{'Type': 'Propeller', 'Name': 'beta_pro', 'Value': beta_pro, 'Unit': '[-]', 'Comment': 'Ratio pitch to diameter'}])[col_names]\n",
    "        df = df.append([{'Type': 'Propeller', 'Name': 'F_pro_to', 'Value': F_pro_to, 'Unit': '[N]', 'Comment': 'Thrust for 1 propeller during Take Off'}])[col_names]\n",
    "        df = df.append([{'Type': 'Propeller', 'Name': 'F_pro_hov', 'Value': F_pro_hov, 'Unit': '[N]', 'Comment': 'Thrust for 1 propeller during Hover'}])[col_names]\n",
    "        df = df.append([{'Type': 'Propeller', 'Name': 'rho_air', 'Value': rho_air, 'Unit': '[kg/m^3]', 'Comment': 'Air density'}])[col_names]\n",
    "        df = df.append([{'Type': 'Propeller', 'Name': 'Dpro_ref', 'Value': D_pro_ref, 'Unit': '[m]', 'Comment': 'Reference propeller diameter'}])[col_names]\n",
    "        df = df.append([{'Type': 'Propeller', 'Name': 'M_pro_ref', 'Value': M_pro_ref, 'Unit': '[kg]', 'Comment': 'Reference propeller mass'}])[col_names]\n",
    "        df = df.append([{'Type': 'Propeller', 'Name': 'C_t', 'Value': C_t, 'Unit': '[-]', 'Comment': 'Thrust coefficient of the propeller'}])[col_names]\n",
    "        df = df.append([{'Type': 'Propeller', 'Name': 'C_p', 'Value': C_p, 'Unit': '[-]', 'Comment': 'Power coefficient of the propeller'}])[col_names]\n",
    "        df = df.append([{'Type': 'Propeller', 'Name': 'D_pro', 'Value': D_pro, 'Unit': '[m]', 'Comment': 'Diameter of the propeller'}])[col_names]\n",
    "        df = df.append([{'Type': 'Propeller', 'Name': 'n_pro_to', 'Value': n_pro_to, 'Unit': '[Hz]', 'Comment': 'Rev speed of the propeller during takeoff'}])[col_names]\n",
    "        df = df.append([{'Type': 'Propeller', 'Name': 'n_pro_hov', 'Value': n_pro_hov, 'Unit': '[Hz]', 'Comment': 'Rev speed of the propeller during hover'}])[col_names]\n",
    "        df = df.append([{'Type': 'Propeller', 'Name': 'P_pro_to', 'Value': P_pro_to, 'Unit': '[W]', 'Comment': 'Power on the mechanical shaft of the propeller during takeoff'}])[col_names]\n",
    "        df = df.append([{'Type': 'Propeller', 'Name': 'P_pro_hov', 'Value': P_pro_hov, 'Unit': '[W]', 'Comment': 'Power on the mechanical shaft of the propeller during hover'}])[col_names]\n",
    "        df = df.append([{'Type': 'Propeller', 'Name': 'M_pro', 'Value': M_pro, 'Unit': '[kg]', 'Comment': 'Mass of the propeller'}])[col_names]\n",
    "        df = df.append([{'Type': 'Propeller', 'Name': 'Omega_pro_to', 'Value': Omega_pro_to, 'Unit': '[rad/s]', 'Comment': 'Rev speed of the propeller during takeoff'}])[col_names]\n",
    "        df = df.append([{'Type': 'Propeller', 'Name': 'Omega_pro_hov', 'Value': Omega_pro_hov, 'Unit': '[rad/s]', 'Comment': 'Rev speed of the propeller during hover'}])[col_names]\n",
    "        df = df.append([{'Type': 'Propeller', 'Name': 'T_pro_hov', 'Value': T_pro_hov, 'Unit': '[N.m]', 'Comment': 'Torque on the mechanical shaft of the propeller during hover'}])[col_names]\n",
    "        df = df.append([{'Type': 'Propeller', 'Name': 'T_pro_to', 'Value': T_pro_to, 'Unit': '[N.m]', 'Comment': 'Torque on the mechanical shaft of the propeller during takeoff'}])[col_names]\n",
    "    \n",
    "\n",
    "        items = sorted(df['Type'].unique().tolist())\n",
    "        def f(Type):\n",
    "            return df[df['Type']==Type] \n",
    "        widgets.interact(f, Type=items)\n",
    "        return f\n",
    "             \n",
    "    else:\n",
    "        return constraints\n"
   ]
  },
  {
   "cell_type": "markdown",
   "metadata": {},
   "source": [
    "<a id='section_4'></a>"
   ]
  },
  {
   "cell_type": "markdown",
   "metadata": {
    "slideshow": {
     "slide_type": "slide"
    }
   },
   "source": [
    "## Optimization problem\n"
   ]
  },
  {
   "cell_type": "markdown",
   "metadata": {},
   "source": [
    "We will now use the [optimization algorithms](https://docs.scipy.org/doc/scipy/reference/optimize.html) of the Scipy package to solve and optimize the configuration. We can use the SLSQP algorithm without explicit expression of the gradient (Jacobian) or a differential evolution optimization to have a more exhaustive calculation. A course on Multidisplinary Gradient optimization algorithms and gradient optimization algorithm is given [here](http://mdolab.engin.umich.edu/sites/default/files/Martins-MDO-course-notes.pdf):\n",
    "> Joaquim R. R. A. Martins (2012). A Short Course on Multidisciplinary Design Optimization. University of Michigan\n"
   ]
  },
  {
   "cell_type": "markdown",
   "metadata": {},
   "source": [
    "The first step is to give an initial value of optimisation variables:"
   ]
  },
  {
   "cell_type": "code",
   "execution_count": 10,
   "metadata": {},
   "outputs": [],
   "source": [
    "# Optimisation variables\n",
    "beta_pro = .33 # pitch/diameter ratio of the propeller\n",
    "k_ND = 1.2 # slow down propeller coef : ND = kNDmax / k_ND\n",
    "\n",
    "# Vector of parameters\n",
    "parameters = scipy.array((beta_pro, k_ND))"
   ]
  },
  {
   "cell_type": "markdown",
   "metadata": {
    "slideshow": {
     "slide_type": "slide"
    }
   },
   "source": [
    "We can print of the characterisitcs of the problem before optimization with the initial vector of optimization variables. Through the droplist menu, an interactive display of the parameters grouped by their type of variable is given:"
   ]
  },
  {
   "cell_type": "code",
   "execution_count": 11,
   "metadata": {},
   "outputs": [
    {
     "name": "stdout",
     "output_type": "stream",
     "text": [
      "-----------------------------------------------\n",
      "Initial characteristics before optimization :\n"
     ]
    },
    {
     "data": {
      "application/vnd.jupyter.widget-view+json": {
       "model_id": "ce0a8b68476141bc8eb147a4bf8d3f4e",
       "version_major": 2,
       "version_minor": 0
      },
      "text/plain": [
       "interactive(children=(Dropdown(description='Type', options=('Optimization', 'Propeller'), value='Optimization'…"
      ]
     },
     "metadata": {},
     "output_type": "display_data"
    },
    {
     "name": "stdout",
     "output_type": "stream",
     "text": [
      "-----------------------------------------------\n"
     ]
    }
   ],
   "source": [
    "# Initial characteristics before optimization \n",
    "print(\"-----------------------------------------------\")\n",
    "print(\"Initial characteristics before optimization :\")\n",
    "sizing_code(parameters,'Prt')\n",
    "print(\"-----------------------------------------------\")"
   ]
  },
  {
   "cell_type": "markdown",
   "metadata": {
    "slideshow": {
     "slide_type": "slide"
    }
   },
   "source": [
    "Then we can solve the problem and print of the optimized solution:"
   ]
  },
  {
   "cell_type": "code",
   "execution_count": 12,
   "metadata": {},
   "outputs": [
    {
     "name": "stdout",
     "output_type": "stream",
     "text": [
      "-----------------------------------------------\n",
      "Final characteristics after optimization :\n"
     ]
    },
    {
     "data": {
      "application/vnd.jupyter.widget-view+json": {
       "model_id": "27051fb9488a49b29c8e38f71d074f5b",
       "version_major": 2,
       "version_minor": 0
      },
      "text/plain": [
       "interactive(children=(Dropdown(description='Type', options=('Optimization', 'Propeller'), value='Optimization'…"
      ]
     },
     "metadata": {},
     "output_type": "display_data"
    },
    {
     "name": "stdout",
     "output_type": "stream",
     "text": [
      "-----------------------------------------------\n"
     ]
    }
   ],
   "source": [
    "# Optimization with SLSQP algorithm\n",
    "contrainte = lambda x: sizing_code(x, 'Const')\n",
    "objectif = lambda x: sizing_code(x, 'Obj')\n",
    "objectifP = lambda x: sizing_code(x, 'ObjP')\n",
    "\n",
    "SLSQP = False # Optimization algorithm choice\n",
    "\n",
    "\n",
    "# Optimization bounds\n",
    "# beta, k_ND\n",
    "bounds = [(0.3,0.6), (1,100)]\n",
    "\n",
    "if SLSQP == True:\n",
    "    # SLSQP omptimisation\n",
    "    result = scipy.optimize.fmin_slsqp(func=objectif, x0=parameters, \n",
    "                                   bounds=bounds,\n",
    "                                   f_ieqcons=contrainte, iter=1500, acc=1e-12)\n",
    "else:\n",
    "    # Differential evolution omptimisation\n",
    "    result = scipy.optimize.differential_evolution(func=objectifP,\n",
    "                                   bounds=bounds,\n",
    "                                   tol=1e-12)\n",
    "\n",
    "# Final characteristics after optimization \n",
    "print(\"-----------------------------------------------\")\n",
    "print(\"Final characteristics after optimization :\")\n",
    "\n",
    "if SLSQP == True:\n",
    "    sizing_code(result,'Obj')\n",
    "    sizing_code(result, 'Prt')\n",
    "else:\n",
    "    sizing_code(result.x,'Obj')\n",
    "    sizing_code(result.x, 'Prt')\n",
    "print(\"-----------------------------------------------\")\n",
    "\n"
   ]
  },
  {
   "cell_type": "code",
   "execution_count": null,
   "metadata": {},
   "outputs": [],
   "source": []
  },
  {
   "cell_type": "code",
   "execution_count": null,
   "metadata": {},
   "outputs": [],
   "source": []
  }
 ],
 "metadata": {
  "kernelspec": {
   "display_name": "Python 3",
   "language": "python",
   "name": "python3"
  },
  "language_info": {
   "codemirror_mode": {
    "name": "ipython",
    "version": 3
   },
   "file_extension": ".py",
   "mimetype": "text/x-python",
   "name": "python",
   "nbconvert_exporter": "python",
   "pygments_lexer": "ipython3",
   "version": "3.6.5"
  }
 },
 "nbformat": 4,
 "nbformat_minor": 4
}
