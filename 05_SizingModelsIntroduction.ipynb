{
 "cells": [
  {
   "cell_type": "markdown",
   "metadata": {
    "slideshow": {
     "slide_type": "slide"
    }
   },
   "source": [
    "<img src=\"./pictures/logo_sizinglab.png\" style=\"float:right; max-width: 60px; display: inline\" alt=\"SizingLab\" /></a>"
   ]
  },
  {
   "cell_type": "markdown",
   "metadata": {
    "slideshow": {
     "slide_type": "slide"
    }
   },
   "source": [
    "# Sizing models for multi-rotor definition \n",
    "*Written by Marc Budinger (INSA Toulouse) and Scott Delbecq (ISAE-SUPAERO), Toulouse, France.*"
   ]
  },
  {
   "cell_type": "markdown",
   "metadata": {},
   "source": [
    "## Global sizing procedure with XDSM representation\n",
    "\n",
    "The following diagram represents the XDSM graph of the global sizing process of the multi-rotor. \n",
    "\n",
    "![XDSM](pictures/xdsm_multirotor_base.png)\n",
    "\n",
    "> **Questions:**\n",
    "* Give the main sizing problems you are able to detect.\n",
    "* Propose one or multiple solutions (which can request equation manipulation, addition of design variables, addition of constraints) "
   ]
  },
  {
   "cell_type": "markdown",
   "metadata": {},
   "source": [
    "### Solution using the Normalized Variable Hybrid formulation\n",
    "\n",
    "The following diagram represents the XDSM graph of the global sizing process of the multi-rotor with the NVH formulation to achieve the MultiDisciplinary Analysis (MDA). \n",
    "\n",
    "![XDSM](pictures/xdsm_multirotor_mda.png)\n",
    "\n",
    "It consists in addition an oversizing coefficent $k_{os} \\quad [1-10]$ as a design variable and additional inequality constraint $M_{total_{load}} \\geq M_{tot}$. This way, we make sure that the drone is capable of lifting the load and itself. As we are minimizing the total mass $M_{tot}$ the oversizing coefficient $k_{os}$ will tend to be as small as possible and thus the inequality constraint will be equivalent to an equality constraint ($M_{total_{load}} = M_{tot}$). This is one way of solving an algebraic loop, other methods use numerical solvers or other optimizer-based formulations.\n",
    "\n",
    "The quadrotor sizing problem contains other solvability issues such as overconstrained singularities. Try to utilize the NVH formulation to solve them."
   ]
  },
  {
   "cell_type": "markdown",
   "metadata": {},
   "source": [
    "## Collaborative work\n",
    "\n",
    "The goal now is to work in a collaborative manner to quickly implement the global sizing procedure.\n",
    "You will work in teams and in each team will work on a sub-part:\n",
    "* [Propeller selection](06a_PropellerSelection.ipynb)\n",
    "* [Motor selection](06b_MotorSelection.ipynb)\n",
    "* [Battery and ESC selection](06c_BatteryESCSelection.ipynb)\n",
    "* [Frame definition](06d_FrameSelection.ipynb)\n",
    "\n",
    "In each of the following notebooks you will complete the code of a sizing brick that will be defined by already selected inputs and outputs. Thank you for respecting them to ensure a successful final assembly of these bricks in the complete optimization problem."
   ]
  },
  {
   "cell_type": "markdown",
   "metadata": {
    "slideshow": {
     "slide_type": "slide"
    }
   },
   "source": [
    "#### Main problems to be solved\n",
    "\n",
    "In general, the establishment of a sizing procedure involves the resolution of the following 3 problems:\n",
    "* a set of equations sub-constrained by the addition of a design variable in the optimization problem;\n",
    "* an over-constrained variable by adding a design variable (multiplier) and the transfer of the excess equation(s) in the constrained part of the optimization problem;\n",
    "* an algebraic loop by the use of a simplified equation weighted by a multiplying coefficient and a constraint representing the initial equation.\n"
   ]
  },
  {
   "cell_type": "markdown",
   "metadata": {
    "slideshow": {
     "slide_type": "slide"
    }
   },
   "source": [
    "#### Caution for the optimizer\n",
    "\n",
    "Where possible:\n",
    "* the design variables must take the form of a normalized variable around 1 (oversize coef. for example) or easily bounded to facilitate the work of the optimizer.\n",
    "* the constraints must take the form of inequality and not of equality which often introduce numerical difficulties. The optimization of the objective (for example the total mass) will certainly force some (active) constraints to come to an end. "
   ]
  },
  {
   "cell_type": "markdown",
   "metadata": {},
   "source": [
    "### Example of generic sizing code\n",
    "\n",
    "Below, you will find an example of an optimization code to solve the following problem.  \n",
    "\n",
    ">For a tank of $x,y,z$ dimensions with $x\\in[0.1,1]$, $y\\in[0.1,1]$ and $z\\in[0.1,2.5]$ m:   \n",
    "Minimize the surface $xy+2z(x+y)$ \n",
    "and \n",
    "respect the constraints      \n",
    " - volume $xyz$ bigger than 200 l.  \n",
    " - developped dimensions $2z+x$ and $2z+y$ lower than 1.5m for machining feasability.  \n",
    "   \n",
    "First work is to define a `SizingCode` function which enables:\n",
    "- to calculate the objective to minimize\n",
    "- to calculate the constraints\n",
    "- to print the results\n"
   ]
  },
  {
   "cell_type": "code",
   "execution_count": 1,
   "metadata": {},
   "outputs": [],
   "source": [
    "import pandas as pd\n",
    "\n",
    "import ipywidgets as widgets\n",
    "from ipywidgets import interactive\n",
    "\n",
    "pd.options.display.float_format = '{:,.2f}'.format\n",
    "\n",
    "\n",
    "# -----------------------\n",
    "# sizing code\n",
    "# -----------------------\n",
    "# inputs: \n",
    "# - param: optimisation variables vector (reduction ratio, oversizing coefficient)\n",
    "# - arg: selection of output  \n",
    "# output: \n",
    "# - objective if arg='Obj', problem characteristics if arg='Prt', constraints other else\n",
    "\n",
    "def SizingCode(param, arg):\n",
    "# Design variables in param\n",
    "# ---\n",
    "    x = param[0] # variable x\n",
    "    y = param[1] # variable y \n",
    "    z = param[2] # variable z\n",
    "    \n",
    "# Calculus \n",
    "# ---\n",
    "    volume = x*y*z\n",
    "    surface = x*y+2*(x+y)*z\n",
    "        \n",
    "# Objective and Constraints sum up\n",
    "# ---\n",
    "    objective = surface\n",
    "    \n",
    "    constraints = [volume\n",
    "                   -.2,\n",
    "                   1.5-(2*z+x),\n",
    "                   1.5-(2*z+y) ]\n",
    "    \n",
    "# Returns selection\n",
    "# -------------------\n",
    "    if arg == 'Obj':\n",
    "        return objective\n",
    "\n",
    "    elif arg=='Prt':\n",
    "    # the data to print a defined into a Pandas dataframe\n",
    "        col_names = ['Type', 'Name', 'Value', 'Unit', 'Comment']\n",
    "\n",
    "        df = pd.DataFrame()\n",
    "    \n",
    "      \n",
    "        df = df.append([{'Type': 'Objective', 'Name': 'Surface', 'Value': objective, 'Unit': '[m^2]', 'Comment': 'Mini surface'}])[col_names]\n",
    "        df = df.append([{'Type': 'Constraints', 'Name': 'Const 1', 'Value': constraints[0], 'Unit': '[m^3]', 'Comment': 'Volume'}])[col_names]\n",
    "        df = df.append([{'Type': 'Constraints', 'Name': 'Const 2', 'Value': constraints[1], 'Unit': '[m]', 'Comment': 'Developped length'}])[col_names]\n",
    "        df = df.append([{'Type': 'Constraints', 'Name': 'Const 3', 'Value': constraints[2], 'Unit': '[m]', 'Comment': 'Developped length'}])[col_names]\n",
    "        df = df.append([{'Type': 'Variables', 'Name': 'x', 'Value': x, 'Unit': '[m]', 'Comment': 'x'}])[col_names]\n",
    "        df = df.append([{'Type': 'Variables', 'Name': 'y', 'Value': y, 'Unit': '[m]', 'Comment': 'y'}])[col_names]\n",
    "        df = df.append([{'Type': 'Variables', 'Name': 'z', 'Value': z, 'Unit': '[m]', 'Comment': 'z'}])[col_names]\n",
    "        df = df.append([{'Type': 'Tank', 'Name': 'Volume', 'Value': volume, 'Unit': '[m^3]', 'Comment': 'Tank volume'}])[col_names]\n",
    "        df = df.append([{'Type': 'Tank', 'Name': 'Surface', 'Value': surface, 'Unit': '[m^2]', 'Comment': 'Tank surface'}])[col_names]\n",
    "        df = df.append([{'Type': 'Tank', 'Name': 'Developped length', 'Value': 2*z+x, 'Unit': '[m]', 'Comment': 'x length'}])[col_names]        \n",
    "        df = df.append([{'Type': 'Tank', 'Name': 'Developped length', 'Value': 2*z+y, 'Unit': '[m]', 'Comment': 'y length'}])[col_names]\n",
    "\n",
    "    # the dataframe is then organised to be printed with interactive widgets\n",
    "        items = sorted(df['Type'].unique().tolist())\n",
    "\n",
    "        def f(Type):\n",
    "            return df[df['Type']==Type] \n",
    "        widgets.interact(f, Type=items)\n",
    "        return f\n",
    "        \n",
    "    else:\n",
    "        return constraints"
   ]
  },
  {
   "cell_type": "markdown",
   "metadata": {},
   "source": [
    "We will now use the [optimization algorithms](https://docs.scipy.org/doc/scipy/reference/optimize.html) of the Scipy package to solve and optimize the configuration. We use here the SLSQP algorithm without explicit expression of the gradient (Jacobian). For global evaluation of the solution, you can use the differential evolution algorithm.\n"
   ]
  },
  {
   "cell_type": "code",
   "execution_count": 2,
   "metadata": {},
   "outputs": [
    {
     "name": "stdout",
     "output_type": "stream",
     "text": [
      "Optimization terminated successfully.    (Exit mode 0)\n",
      "            Current function value: 1.6286505699551932\n",
      "            Iterations: 13\n",
      "            Function evaluations: 58\n",
      "            Gradient evaluations: 11\n",
      "-----------------------------------------------\n",
      "Final characteristics after optimization :\n",
      "1.6286505699551932\n"
     ]
    },
    {
     "data": {
      "application/vnd.jupyter.widget-view+json": {
       "model_id": "86502738b95a46f2b84116382c5aeea9",
       "version_major": 2,
       "version_minor": 0
      },
      "text/plain": [
       "interactive(children=(Dropdown(description='Type', options=('Constraints', 'Objective', 'Tank', 'Variables'), …"
      ]
     },
     "metadata": {},
     "output_type": "display_data"
    },
    {
     "data": {
      "text/plain": [
       "<function __main__.SizingCode.<locals>.f(Type)>"
      ]
     },
     "execution_count": 2,
     "metadata": {},
     "output_type": "execute_result"
    }
   ],
   "source": [
    "import scipy\n",
    "import scipy.optimize\n",
    "\n",
    "# Vector of initial parameters\n",
    "parameters = scipy.array((1,1,1))\n",
    "\n",
    "# Optimization with SLSQP algorithm: definition of requested functions\n",
    "contrainte = lambda x: SizingCode(x, 'Const')\n",
    "objectif = lambda x: SizingCode(x, 'Obj')\n",
    "objectifP = lambda x: SizingCode(x, 'ObjP')\n",
    "\n",
    "# Optimization bounds\n",
    "bounds = [(.1,1), (.1,1), (0.1,2.5)]\n",
    "\n",
    "# SLSQP omptimisation\n",
    "result = scipy.optimize.fmin_slsqp(func=objectif, x0=parameters, \n",
    "                                   bounds=bounds,\n",
    "                                   f_ieqcons=contrainte, iter=1500, acc=1e-12)\n",
    "\n",
    "\n",
    "# Final characteristics after optimization \n",
    "print(\"-----------------------------------------------\")\n",
    "print(\"Final characteristics after optimization :\")\n",
    "\n",
    "print(SizingCode(result, 'Obj'))\n",
    "SizingCode(result, 'Prt')\n"
   ]
  },
  {
   "cell_type": "code",
   "execution_count": null,
   "metadata": {},
   "outputs": [],
   "source": []
  }
 ],
 "metadata": {
  "kernelspec": {
   "display_name": "Python 3",
   "language": "python",
   "name": "python3"
  },
  "language_info": {
   "codemirror_mode": {
    "name": "ipython",
    "version": 3
   },
   "file_extension": ".py",
   "mimetype": "text/x-python",
   "name": "python",
   "nbconvert_exporter": "python",
   "pygments_lexer": "ipython3",
   "version": "3.7.4"
  }
 },
 "nbformat": 4,
 "nbformat_minor": 4
}
