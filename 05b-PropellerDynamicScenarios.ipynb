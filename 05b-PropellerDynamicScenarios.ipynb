{
 "cells": [
  {
   "cell_type": "markdown",
   "metadata": {},
   "source": [
    "<img src=\"./pictures/logo_sizinglab.png\" style=\"float:right; max-width: 60px; display: inline\" alt=\"SizingLab\" /></a>\n"
   ]
  },
  {
   "cell_type": "markdown",
   "metadata": {},
   "source": [
    "## Dynamic models for propellers\n",
    "*Written by Marc Budinger, Aitor Ochotorena (INSA Toulouse) and Scott Delbecq (ISAE-SUPAERO), Toulouse, France.*\n"
   ]
  },
  {
   "cell_type": "markdown",
   "metadata": {},
   "source": [
    "The complexity of the propellers characteristics increases as they work in dynamic scenarios. So far, we have seen how $C_T$ and $C_P$ coefficients can be well expressed in terms of geometric ratio (pitch/diameter). In these dynamic scenarios, these coefficients depend also on the speed.  Based on dimensional analysis and the polynomial regression of suppliers data, adequate prediction models for $C_T$ and $C_P$ are generated. \n"
   ]
  },
  {
   "cell_type": "markdown",
   "metadata": {},
   "source": [
    "*Flow distribution in multirotor vehicle for climbing*\n",
    "![Climbing](./pictures/drone_axial_vertical_flight.png)\n"
   ]
  },
  {
   "cell_type": "markdown",
   "metadata": {},
   "source": [
    "### Data analysis"
   ]
  },
  {
   "cell_type": "markdown",
   "metadata": {},
   "source": [
    "Based on the datasheets of different models of *APC propellers MR*, estimation models are developed to characterize the thrust and power coefficients of the propellers for dynamic scenarios. In the next DataFrame, an extra column is added to calculate the value of the dimensionless air compressibility estimation or B coefficient."
   ]
  },
  {
   "cell_type": "code",
   "execution_count": null,
   "metadata": {},
   "outputs": [],
   "source": [
    "import pandas as pd\n",
    "import math\n",
    "\n",
    "# Read the .csv file with bearing data\n",
    "path='./docs/'\n",
    "df = pd.read_csv(path+'Propeller_Data.csv', sep=';')\n",
    "K=101000 #[Pa] bulk modulus air\n",
    "df['B coef']=1.18*(df['RPM']/60*2*3.14)**(2)*(df['DIAMETER_in']*0.0254)**(2)/K\n",
    "\n",
    "# Print the head (first lines of the file)\n",
    "df.head()"
   ]
  },
  {
   "cell_type": "markdown",
   "metadata": {},
   "source": [
    "### Heatmap"
   ]
  },
  {
   "cell_type": "markdown",
   "metadata": {},
   "source": [
    "The use of Heatmaps enables to visualize numerically the dependence of the parameters on each others to describe their behaviour. A value close to '1' will mean a very strong dependence, while a value close to '0' means a negligible effect. We see how $Cp$ and $Ct$ do not longer depend only on beta to describe their behaviour. A tutorial of seaborn heatmap can be found [here](https://likegeeks.com/seaborn-heatmap-tutorial/)."
   ]
  },
  {
   "cell_type": "code",
   "execution_count": null,
   "metadata": {},
   "outputs": [],
   "source": [
    "import pandas as pd\n",
    "import numpy as np\n",
    "import seaborn as sns\n",
    "import matplotlib.pyplot as plt\n",
    "%matplotlib inline\n",
    "\n",
    "f, axes = plt.subplots(1,2,figsize=(12,4))\n",
    "\n",
    "df_Cp=df[['Cp','BETA','J', 'B coef']]\n",
    "df_Ct=df[['Ct','BETA','J', 'B coef']]\n",
    "\n",
    "# heatmap\n",
    "sns.heatmap(df_Cp.corr(method='pearson')**2,annot=True,cmap='coolwarm',square=True, ax=axes[0])\n",
    "sns.heatmap(df_Ct.corr(method='pearson')**2,annot=True,cmap='coolwarm',square=True, ax=axes[1])\n",
    "\n"
   ]
  },
  {
   "cell_type": "markdown",
   "metadata": {},
   "source": [
    "### Scatter matrix"
   ]
  },
  {
   "cell_type": "markdown",
   "metadata": {},
   "source": [
    "Another technique very similar to the heatmap to observe dependencies is the scatter matrix, in which we can represent in a matrix small subplots. Here we are interested in studying the trend of the parameter rather than knowing the exact value of the magnitude."
   ]
  },
  {
   "cell_type": "code",
   "execution_count": null,
   "metadata": {},
   "outputs": [],
   "source": [
    "pd.plotting.scatter_matrix(df_Cp)\n",
    "pd.plotting.scatter_matrix(df_Ct)\n",
    "plt.tick_params(axis = 'both', labelsize = 14)\n",
    "plt.rcParams.update({'font.size': 14})\n"
   ]
  },
  {
   "cell_type": "markdown",
   "metadata": {},
   "source": [
    "### Surrogate modeling techniques"
   ]
  },
  {
   "cell_type": "markdown",
   "metadata": {},
   "source": [
    "In this part, data are fitted using a non-linear polynomial model regression. For this purpose, a polynomial $(beta+ J)^n$ is developed using the package `PolynomialFeatures` of [scikit learn](https://scikit-learn.org/stable/modules/generated/sklearn.preprocessing.PolynomialFeatures.html) to a degree n, whose value of determination coefficient ($R^2$) is higher than required.\n",
    "As a condition, we set that the value of R squared required must be $R_{est}=0.98$\n",
    "At the end, data and the surrogate model are plotted in a 3D graph."
   ]
  },
  {
   "cell_type": "markdown",
   "metadata": {},
   "source": [
    "- $C_p=f(\\beta,J)$"
   ]
  },
  {
   "cell_type": "code",
   "execution_count": null,
   "metadata": {},
   "outputs": [],
   "source": [
    "from sklearn.preprocessing import PolynomialFeatures\n",
    "from sklearn.metrics import mean_squared_error, r2_score\n",
    "from mpl_toolkits.mplot3d import Axes3D\n",
    "import matplotlib.pyplot as plt\n",
    "import statsmodels.api as sm\n",
    "import numpy as np\n",
    "\n",
    "R_est=0.98 # minimum R-squared value to achieve\n",
    "\n",
    "%matplotlib notebook \n",
    "# read dataframe values\n",
    "X = df[['J', 'BETA']].values\n",
    "y1 = df['Cp'].values\n",
    "\n",
    "# extracting columns from X\n",
    "mu_col=X[:,0] \n",
    "beta_col=X[:,1]\n",
    "\n",
    "#a matrix of mu and beta is made\n",
    "XX = np.concatenate((mu_col.reshape(np.size(y1),1),beta_col.reshape(np.size(y1),1)),axis=1)\n",
    "\n",
    "# in this while we increase the polynomial binomium until R2 reaches the limit\n",
    "i=1 # start by 1.Grade polynomium \n",
    "while True:\n",
    "    poly = PolynomialFeatures(i) # development of i-grade polynomium\n",
    "    x_poly = poly.fit_transform(XX)\n",
    "\n",
    "    model = sm.OLS(y1, x_poly) #fit regression model to the data\n",
    "    result= model.fit() # save value of coeficients\n",
    "    y_poly_pred = result.predict(x_poly) # according to the regression model found, a value of y is generated\n",
    "\n",
    "    rmse = np.sqrt(mean_squared_error(y1,y_poly_pred)) #Root mean square error\n",
    "    r2 = r2_score(y1,y_poly_pred) #R2 correlation value\n",
    "    i +=1 # we increase the polynomium degre\n",
    "    if r2>R_est: #if R2 calculated is greater than \n",
    "        break\n",
    "print(\"RMSE=\",rmse)\n",
    "print(\"R2=\",r2)\n",
    "\n",
    "#here we expand the formula of the i-degree polynomium\n",
    "data = pd.DataFrame.from_dict({\n",
    "    'J': np.random.randint(low=1, high=10, size=5),\n",
    "    'BETA': np.random.randint(low=-1, high=1, size=5),\n",
    "})\n",
    "\n",
    "p = PolynomialFeatures(degree=i-1).fit(data)\n",
    "\n",
    "#concatenate the OLS regression parameters with variables \n",
    "string1=['+({:.3f})*'.format(x) for x in result.params]\n",
    "string2=p.get_feature_names(data.columns)\n",
    "\n",
    "Result=\"\"\n",
    "for i in range(len(string1)):\n",
    "        Result += string1[i]\n",
    "        Result += string2[i]\n",
    "print('Cp=',Result)\n",
    "\n",
    "\n",
    "#meshgrid 3D for plot\n",
    "xx1, xx2 = np.meshgrid(np.linspace(mu_col.min(), mu_col.max(), len(y1)), \n",
    "                       np.linspace(beta_col.min(), beta_col.max(), len(y1)))\n",
    "\n",
    "\n",
    "#create the 3D axis \n",
    "fig = plt.figure(figsize=(10, 8))\n",
    "ax = Axes3D(fig, azim=-210, elev=15)\n",
    "\n",
    "\n",
    "ax.scatter(mu_col, beta_col, y1, color='black', alpha=1.0, facecolor='white')\n",
    "\n",
    "# reshape data to suit in the grid. Here a x b = len(y1)\n",
    "xp = np.reshape(mu_col, (94, 30))\n",
    "yp = np.reshape(beta_col, (94, 30))\n",
    "zp = np.reshape(y_poly_pred, (94, 30))\n",
    "\n",
    "# plotting the predicted surface\n",
    "ax.plot_surface(xp, yp, zp, cmap=plt.cm.RdBu_r, alpha=0.3, linewidth=0)\n",
    "\n",
    "#axis labels\n",
    "ax.set_xlabel('J (Advance ratio) [-]',fontsize=14)\n",
    "ax.set_ylabel('angle (pitch/diameter) [-]',fontsize=14)\n",
    "ax.set_zlabel(r'$C_P [-]$',fontsize=14)\n",
    "\n",
    "plt.grid()\n",
    "\n",
    "plt.tick_params(axis = 'both', labelsize = 14)"
   ]
  },
  {
   "cell_type": "markdown",
   "metadata": {},
   "source": [
    "- $C_t=f(\\beta,J)$"
   ]
  },
  {
   "cell_type": "code",
   "execution_count": null,
   "metadata": {},
   "outputs": [],
   "source": [
    "R_est=0.98 # minimum R-squared value to achieve\n",
    "\n",
    "# read dataframe values\n",
    "X = df[['J', 'BETA']].values\n",
    "y1 = df['Ct'].values\n",
    "\n",
    "# extracting columns from X\n",
    "mu_col=X[:,0] \n",
    "beta_col=X[:,1]\n",
    "\n",
    "#a matrix of mu and beta is made\n",
    "XX = np.concatenate((mu_col.reshape(np.size(y1),1),beta_col.reshape(np.size(y1),1)),axis=1)\n",
    "\n",
    "# in this while we increase the polynomial binomium until R2 reaches the limit\n",
    "i=1 # start by 1.Grade polynomium \n",
    "while True:\n",
    "    poly = PolynomialFeatures(i) # development of i-grade polynomium\n",
    "    x_poly = poly.fit_transform(XX)\n",
    "\n",
    "    model = sm.OLS(y1, x_poly) #fit regression model to the data\n",
    "    result= model.fit() # save value of coeficients\n",
    "    y_poly_pred = result.predict(x_poly) # according to the regression model found, a value of y is generated\n",
    "\n",
    "    rmse = np.sqrt(mean_squared_error(y1,y_poly_pred)) #Root mean square error\n",
    "    r2 = r2_score(y1,y_poly_pred) #R2 correlation value\n",
    "    i +=1 # we increase the polynomium degre\n",
    "    if r2>R_est: #if R2 calculated is greater than \n",
    "        break\n",
    "print(\"RMSE=\",rmse)\n",
    "print(\"R2=\",r2)\n",
    "\n",
    "#here we expand the formula of the i-degree polynomium\n",
    "data = pd.DataFrame.from_dict({\n",
    "    'mu': np.random.randint(low=1, high=10, size=5),\n",
    "    'beta': np.random.randint(low=-1, high=1, size=5),\n",
    "})\n",
    "\n",
    "p = PolynomialFeatures(degree=i-1).fit(data)\n",
    "\n",
    "#concatenate the OLS regression parameters with variables \n",
    "string1=['+({:.3f})*'.format(x) for x in result.params]\n",
    "string2=p.get_feature_names(data.columns)\n",
    "\n",
    "Result=\"\"\n",
    "for i in range(len(string1)):\n",
    "        Result += string1[i]\n",
    "        Result += string2[i]\n",
    "print('Ct=',Result)\n",
    "\n",
    "\n",
    "#meshgrid 3D for plot\n",
    "xx1, xx2 = np.meshgrid(np.linspace(mu_col.min(), mu_col.max(), len(y1)), \n",
    "                       np.linspace(beta_col.min(), beta_col.max(), len(y1)))\n",
    "\n",
    "\n",
    "#create the 3D axis \n",
    "fig = plt.figure(figsize=(10, 8))\n",
    "ax = Axes3D(fig, azim=-210, elev=15)\n",
    "\n",
    "\n",
    "ax.scatter(mu_col, beta_col, y1, color='black', alpha=1.0, facecolor='white')\n",
    "\n",
    "# reshape data to suit in the grid. Here a x b = len(y1)\n",
    "xp = np.reshape(mu_col, (94, 30))\n",
    "yp = np.reshape(beta_col, (94, 30))\n",
    "zp = np.reshape(y_poly_pred, (94, 30))\n",
    "\n",
    "# plotting the predicted surface\n",
    "ax.plot_surface(xp, yp, zp, cmap=plt.cm.RdBu_r, alpha=0.3, linewidth=0)\n",
    "\n",
    "#axis labels\n",
    "ax.set_xlabel('J (Advance ratio) [-]',fontsize=14)\n",
    "ax.set_ylabel('angle (pitch/diameter) [-]',fontsize=14)\n",
    "ax.set_zlabel(r'$C_T [-]$',fontsize=14)\n",
    "\n",
    "plt.grid()\n",
    "\n",
    "plt.tick_params(axis = 'both', labelsize = 14)\n"
   ]
  },
  {
   "cell_type": "markdown",
   "metadata": {},
   "source": [
    "### Extra: values of $C_T$ and $C_P$ for other propeller models"
   ]
  },
  {
   "cell_type": "markdown",
   "metadata": {},
   "source": [
    "Curves of thrust and power coefficient are represented for the dynamic behaviour for other manufacturer's models. Required aerodynamic thrust and power fall as the propeller gains speed. Performance efficiency has a parabolic form."
   ]
  },
  {
   "cell_type": "code",
   "execution_count": null,
   "metadata": {},
   "outputs": [],
   "source": [
    "import pandas as pd\n",
    "import numpy as np\n",
    "\n",
    "import matplotlib.pyplot as plt\n",
    "\n",
    "path='./docs/'\n",
    "df = pd.read_csv(path+'9x45-DynamicProps.csv', sep=';')\n",
    "\n",
    "f, ((ax1, ax2,ax3)) = plt.subplots(1, 3,figsize=(10, 5))\n",
    "f.tight_layout()\n",
    "\n",
    "groups = df.groupby('TYPE')\n",
    "\n",
    "for name, group in groups:\n",
    "    ax1.plot(group.J, group.CT, marker='o', linestyle='', ms=5, \n",
    "label=name)\n",
    "    \n",
    "#ax1.set_title('CT vs J')\n",
    "ax1.set_xlabel('J[-]',fontsize=14)\n",
    "ax1.set_ylabel(r'$C_T[-]$',fontsize=14)\n",
    "\n",
    "for name, group in groups:\n",
    "    ax2.plot(group.J, group.CP, marker='o', linestyle='', ms=5, \n",
    "label='_nolegend_')\n",
    "    \n",
    "#ax2.set_title('CP vs J')\n",
    "ax2.set_xlabel('J[-]',fontsize=14)\n",
    "ax2.set_ylabel(r'$C_P[-]$',fontsize=14)\n",
    "\n",
    "for name, group in groups:\n",
    "    ax3.plot(group.J, group.Eta, marker='o', linestyle='', ms=5, \n",
    "label='_nolegend_')\n",
    "    \n",
    "#ax3.set_title(r'Efficiency $\\eta$ vs Advance Ratio J')\n",
    "ax3.set_xlabel('J[-]',fontsize=14)\n",
    "ax3.set_ylabel(r'$\\eta[-]$',fontsize=14)\n",
    "\n",
    "f.legend(loc='lower center', bbox_to_anchor=(0.8, 0.05),prop={'size': 14},ncol=4)\n",
    "#f.legend(loc=(axbox.x0,0),prop={'size': 8})\n",
    "ax1.grid()    \n",
    "\n",
    "ax2.grid() \n",
    "\n",
    "\n",
    "ax3.grid()    \n",
    "\n",
    "ax1.tick_params(axis = 'both', labelsize = 14)\n",
    "ax2.tick_params(axis = 'both', labelsize = 14)\n",
    "ax3.tick_params(axis = 'both', labelsize = 14)\n",
    "\n",
    "f.tight_layout()\n",
    "#plt.subplots_adjust(left=None, bottom=None, right=None, top=None,\n",
    "#                wspace=None, hspace=None)\n"
   ]
  },
  {
   "cell_type": "markdown",
   "metadata": {},
   "source": [
    "### References"
   ]
  },
  {
   "cell_type": "markdown",
   "metadata": {},
   "source": [
    "- Principles of Helicopter Aerodynamics. Leishman\n",
    "- [MR Propellers](https://www.masterairscrew.com/pages/mr-drone-propellers)\n",
    "- [Drones](https://www.droneomega.com/quadcopter-propeller/)\n"
   ]
  },
  {
   "cell_type": "code",
   "execution_count": null,
   "metadata": {},
   "outputs": [],
   "source": []
  }
 ],
 "metadata": {
  "kernelspec": {
   "display_name": "Python 3",
   "language": "python",
   "name": "python3"
  },
  "language_info": {
   "codemirror_mode": {
    "name": "ipython",
    "version": 3
   },
   "file_extension": ".py",
   "mimetype": "text/x-python",
   "name": "python",
   "nbconvert_exporter": "python",
   "pygments_lexer": "ipython3",
   "version": "3.6.5"
  }
 },
 "nbformat": 4,
 "nbformat_minor": 4
}
