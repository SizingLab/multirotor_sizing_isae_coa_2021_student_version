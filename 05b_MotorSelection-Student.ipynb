{
 "cells": [
  {
   "cell_type": "markdown",
   "metadata": {
    "slideshow": {
     "slide_type": "slide"
    }
   },
   "source": [
    "<img src=\"./pictures/logo_sizinglab.png\" style=\"float:right; max-width: 60px; display: inline\" alt=\"SizingLab\" /></a>"
   ]
  },
  {
   "cell_type": "markdown",
   "metadata": {
    "slideshow": {
     "slide_type": "slide"
    }
   },
   "source": [
    "# Motor selection\n",
    "*Written by Marc Budinger (INSA Toulouse) and Scott Delbecq (ISAE-SUPAERO), Toulouse, France.*"
   ]
  },
  {
   "cell_type": "markdown",
   "metadata": {
    "slideshow": {
     "slide_type": "slide"
    }
   },
   "source": [
    "## Design graph \n",
    "\n",
    "The following diagram represents the design graph of the motor’s selection. The mean speed/thrust (Ωmoy & Tmoy), the max speed/thrust (Ωmax & Tmax) and the battery voltage are assumed to be known here.\n",
    "\n",
    "![DesignGraph](pictures/MotorDesignGraph.png)\n",
    "\n",
    "> **Questions:**\n",
    "* Give the 2 main sizing problems you are able to detect here.\n",
    "* Propose one or multiple solutions (which can request equation manipulation, addition of design variables, addition of constraints) \n",
    "* Orientate the arrows and write equations order, inputs/outputs at each step of this part of sizing procedure, additional constraints\n"
   ]
  },
  {
   "cell_type": "markdown",
   "metadata": {},
   "source": [
    "### Sizing code and optimization\n",
    "\n",
    "> Exercice: propose a sizing code for the selection of a motor.\n"
   ]
  },
  {
   "cell_type": "code",
   "execution_count": null,
   "metadata": {},
   "outputs": [],
   "source": [
    "# Specifications\n",
    "\n",
    "# Reference parameters for scaling laws\n",
    "# Motor reference\n",
    "# Ref : AXI 5325/16 GOLD LINE\n",
    "T_nom_mot_ref = 2.32  # [N.m] rated torque\n",
    "T_max_mot_ref = 85./70.*T_nom_mot_ref # [N.m] max torque\n",
    "R_mot_ref = 0.03  # [Ohm] resistance\n",
    "M_mot_ref = 0.575 # [kg] mass\n",
    "K_mot_ref = 0.03 # [N.m/A] torque coefficient\n",
    "T_mot_fr_ref = 0.03 # [N.m] friction torque (zero load, nominal speed)\n",
    "\n",
    "# Assumption\n",
    "T_pro_to=0.5#[N.m] Propeller Torque during takeoff\n",
    "Omega_pro_to=400.0#[rad/s] Propeller speed during takeoff\n",
    "T_pro_hov=1.0#[N.m] Propeller Torque during hover\n",
    "Omega_pro_hov=0.22#[rad/s] Propeller speed during hover\n",
    "U_bat_est= 14.0#[V] Battery voltage value (estimation)\n"
   ]
  },
  {
   "cell_type": "code",
   "execution_count": null,
   "metadata": {},
   "outputs": [],
   "source": [
    "#Design variables\n",
    "\n",
    "#Equations:\n",
    "#-----\n",
    "\n",
    "# Selection with take-off speed\n",
    "\n",
    "# Hover current and voltage\n",
    "\n",
    "# Takeoff current and voltage\n"
   ]
  }
 ],
 "metadata": {
  "kernelspec": {
   "display_name": "Python 3",
   "language": "python",
   "name": "python3"
  },
  "language_info": {
   "codemirror_mode": {
    "name": "ipython",
    "version": 3
   },
   "file_extension": ".py",
   "mimetype": "text/x-python",
   "name": "python",
   "nbconvert_exporter": "python",
   "pygments_lexer": "ipython3",
   "version": "3.6.5"
  }
 },
 "nbformat": 4,
 "nbformat_minor": 4
}
